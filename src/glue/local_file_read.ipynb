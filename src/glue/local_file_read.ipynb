{
 "cells": [
  {
   "cell_type": "code",
   "execution_count": 1,
   "id": "9d461fd8-03a3-4d75-8b88-0b9f20db2704",
   "metadata": {},
   "outputs": [
    {
     "name": "stderr",
     "output_type": "stream",
     "text": [
      "SLF4J: Class path contains multiple SLF4J bindings.\n",
      "SLF4J: Found binding in [jar:file:/home/glue_user/spark/jars/log4j-slf4j-impl-2.17.2.jar!/org/slf4j/impl/StaticLoggerBinder.class]\n",
      "SLF4J: Found binding in [jar:file:/home/glue_user/spark/jars/slf4j-reload4j-1.7.36.jar!/org/slf4j/impl/StaticLoggerBinder.class]\n",
      "SLF4J: Found binding in [jar:file:/home/glue_user/aws-glue-libs/jars/log4j-slf4j-impl-2.17.2.jar!/org/slf4j/impl/StaticLoggerBinder.class]\n",
      "SLF4J: Found binding in [jar:file:/home/glue_user/aws-glue-libs/jars/slf4j-reload4j-1.7.36.jar!/org/slf4j/impl/StaticLoggerBinder.class]\n",
      "SLF4J: See http://www.slf4j.org/codes.html#multiple_bindings for an explanation.\n",
      "SLF4J: Actual binding is of type [org.apache.logging.slf4j.Log4jLoggerFactory]\n",
      "Setting default log level to \"WARN\".\n",
      "To adjust logging level use sc.setLogLevel(newLevel). For SparkR, use setLogLevel(newLevel).\n",
      "/home/glue_user/spark/python/pyspark/sql/context.py:112: FutureWarning: Deprecated in 3.0.0. Use SparkSession.builder.getOrCreate() instead.\n",
      "  warnings.warn(\n"
     ]
    }
   ],
   "source": [
    "from awsglue.transforms import *\n",
    "from awsglue.utils import getResolvedOptions\n",
    "from pyspark.context import SparkContext\n",
    "from awsglue.context import GlueContext\n",
    "from awsglue.job import Job\n",
    "from pyspark.sql.functions import col\n",
    "\n",
    "# Initialize Glue context and Spark context\n",
    "sc = SparkContext.getOrCreate() #get or create, important for jupyter.\n",
    "glueContext = GlueContext(sc)\n",
    "spark = glueContext.spark_session\n"
   ]
  },
  {
   "cell_type": "code",
   "execution_count": 2,
   "id": "254b9093-2018-48c7-8730-b4c604e46738",
   "metadata": {},
   "outputs": [
    {
     "name": "stderr",
     "output_type": "stream",
     "text": [
      "                                                                                \r"
     ]
    },
    {
     "data": {
      "text/plain": [
       "68883"
      ]
     },
     "execution_count": 2,
     "metadata": {},
     "output_type": "execute_result"
    }
   ],
   "source": [
    "df=spark.read.csv(\"sample_data/retail_db/orders/part-00000_orders.csv\", header=True)\n",
    "df.count()"
   ]
  },
  {
   "cell_type": "code",
   "execution_count": 3,
   "id": "309e7a16-e02f-4132-afd0-d66a27c77a95",
   "metadata": {},
   "outputs": [
    {
     "name": "stdout",
     "output_type": "stream",
     "text": [
      "root\n",
      " |-- order_id: string (nullable = true)\n",
      " |-- order_date: string (nullable = true)\n",
      " |-- order_customer_id: string (nullable = true)\n",
      " |-- order_status: string (nullable = true)\n",
      "\n"
     ]
    }
   ],
   "source": [
    "df.printSchema()"
   ]
  },
  {
   "cell_type": "code",
   "execution_count": 17,
   "id": "14387561-a25f-41ee-a2c4-2043e55acaf2",
   "metadata": {},
   "outputs": [
    {
     "name": "stdout",
     "output_type": "stream",
     "text": [
      " there are total 9 distinct order status available in the table\n"
     ]
    }
   ],
   "source": [
    "distinct_count_ostatus=df.select(\"order_status\").distinct().count()\n",
    "print(f\" there are total {distinct_count_ostatus} distinct order status available in the table\")"
   ]
  },
  {
   "cell_type": "code",
   "execution_count": 27,
   "id": "897f9cd3-d6d0-4fc1-ad40-1d62ec7042f7",
   "metadata": {},
   "outputs": [
    {
     "name": "stdout",
     "output_type": "stream",
     "text": [
      "+--------+--------------------+-----------------+---------------+\n",
      "|order_id|          order_date|order_customer_id|   order_status|\n",
      "+--------+--------------------+-----------------+---------------+\n",
      "|       1|2013-07-25 00:00:...|            11599|         CLOSED|\n",
      "|       2|2013-07-25 00:00:...|              256|PENDING_PAYMENT|\n",
      "|       3|2013-07-25 00:00:...|            12111|       COMPLETE|\n",
      "|       4|2013-07-25 00:00:...|             8827|         CLOSED|\n",
      "|       5|2013-07-25 00:00:...|            11318|       COMPLETE|\n",
      "+--------+--------------------+-----------------+---------------+\n",
      "only showing top 5 rows\n",
      "\n"
     ]
    }
   ],
   "source": [
    "df.createOrReplaceTempView(\"dft\")\n",
    "spark.sql(\"select * from dft\").show(5)"
   ]
  },
  {
   "cell_type": "code",
   "execution_count": 31,
   "id": "85cd2d77-d8d9-4aaf-beac-884234e4db50",
   "metadata": {},
   "outputs": [
    {
     "name": "stdout",
     "output_type": "stream",
     "text": [
      "+--------+\n",
      "|count(1)|\n",
      "+--------+\n",
      "|   68883|\n",
      "+--------+\n",
      "\n"
     ]
    }
   ],
   "source": [
    "spark.sql(\"select count(*) from dft\").show()"
   ]
  },
  {
   "cell_type": "code",
   "execution_count": 40,
   "id": "32195900-9983-4461-b986-1e38ecf96e92",
   "metadata": {},
   "outputs": [
    {
     "name": "stdout",
     "output_type": "stream",
     "text": [
      "+----------+--------+\n",
      "|order_date|count(1)|\n",
      "+----------+--------+\n",
      "|2013-11-03|     347|\n",
      "|2013-11-24|     292|\n",
      "|2013-11-14|     287|\n",
      "|2013-10-04|     287|\n",
      "|2013-12-26|     286|\n",
      "+----------+--------+\n",
      "only showing top 5 rows\n",
      "\n"
     ]
    }
   ],
   "source": [
    "# print the top 5 dates having max orders placed\n",
    "spark.sql(\"select date(order_date),count(*) from dft group by date(order_date)\\\n",
    "order by count(*) desc \")\\\n",
    ".show(5)"
   ]
  },
  {
   "cell_type": "code",
   "execution_count": 158,
   "id": "22e02739-622a-490f-a869-cefbbd88e110",
   "metadata": {},
   "outputs": [
    {
     "name": "stdout",
     "output_type": "stream",
     "text": [
      "+----------+-----+\n",
      "|order_Date|count|\n",
      "+----------+-----+\n",
      "|2013-11-03|  347|\n",
      "|2013-11-24|  292|\n",
      "|2013-11-14|  287|\n",
      "|2013-10-04|  287|\n",
      "|2013-12-26|  286|\n",
      "+----------+-----+\n",
      "only showing top 5 rows\n",
      "\n"
     ]
    }
   ],
   "source": [
    "# print the top 5 dates having max orders placed but using API\n",
    "df.groupBy(df.order_date.cast(\"date\").alias(\"order_Date\")).count().sort(col(\"count\").desc()).show(5)"
   ]
  },
  {
   "cell_type": "code",
   "execution_count": 159,
   "id": "ffb0e646-1396-4063-ad62-f90d2cd71388",
   "metadata": {},
   "outputs": [
    {
     "name": "stdout",
     "output_type": "stream",
     "text": [
      "+--------+--------------------+-----------------+---------------+\n",
      "|order_id|          order_date|order_customer_id|   order_status|\n",
      "+--------+--------------------+-----------------+---------------+\n",
      "|       1|2013-07-25 00:00:...|            11599|         CLOSED|\n",
      "|       2|2013-07-25 00:00:...|              256|PENDING_PAYMENT|\n",
      "|       3|2013-07-25 00:00:...|            12111|       COMPLETE|\n",
      "|       4|2013-07-25 00:00:...|             8827|         CLOSED|\n",
      "|       5|2013-07-25 00:00:...|            11318|       COMPLETE|\n",
      "+--------+--------------------+-----------------+---------------+\n",
      "only showing top 5 rows\n",
      "\n"
     ]
    }
   ],
   "source": [
    "df.show(5)"
   ]
  },
  {
   "cell_type": "code",
   "execution_count": 190,
   "id": "fdd9a3a4-839e-49e0-a5fd-74c3a59c74d7",
   "metadata": {},
   "outputs": [
    {
     "name": "stdout",
     "output_type": "stream",
     "text": [
      "root\n",
      " |-- order_id: string (nullable = true)\n",
      " |-- order_date: string (nullable = true)\n",
      " |-- order_customer_id: string (nullable = true)\n",
      " |-- order_status: string (nullable = true)\n",
      "\n",
      "root\n",
      " |-- order_item_id: string (nullable = true)\n",
      " |-- order_item_order_id: string (nullable = true)\n",
      " |-- order_item_product_id: string (nullable = true)\n",
      " |-- order_item_quantity: string (nullable = true)\n",
      " |-- order_item_subtotal: string (nullable = true)\n",
      " |-- order_item_product_price: string (nullable = true)\n",
      "\n"
     ]
    }
   ],
   "source": [
    "o=spark.read.csv(\"sample_data/retail_db/orders/part-00000_orders.csv\", header=True)\n",
    "oi=spark.read.csv(\"sample_data/retail_db/order_items/part-00000-order_items.csv\", header=True)\n",
    "o.printSchema()\n",
    "oi.printSchema()"
   ]
  },
  {
   "cell_type": "code",
   "execution_count": 161,
   "id": "9d6560a9-0350-4224-9e28-883d7c7d541d",
   "metadata": {},
   "outputs": [
    {
     "data": {
      "text/plain": [
       "172198"
      ]
     },
     "execution_count": 161,
     "metadata": {},
     "output_type": "execute_result"
    }
   ],
   "source": [
    "oi.count()"
   ]
  },
  {
   "cell_type": "code",
   "execution_count": 173,
   "id": "e0811065-6567-457b-b31e-3710605a97d2",
   "metadata": {},
   "outputs": [],
   "source": [
    "o.createOrReplaceTempView(\"o\")\n",
    "oi.createOrReplaceTempView(\"oi\")"
   ]
  },
  {
   "cell_type": "code",
   "execution_count": 174,
   "id": "b5e57550-2989-41d7-aa35-277a8e145063",
   "metadata": {},
   "outputs": [
    {
     "name": "stdout",
     "output_type": "stream",
     "text": [
      "+--------+\n",
      "|count(1)|\n",
      "+--------+\n",
      "|  172198|\n",
      "+--------+\n",
      "\n"
     ]
    }
   ],
   "source": [
    "spark.sql(\"select count(*) from oi\").show()"
   ]
  },
  {
   "cell_type": "code",
   "execution_count": 177,
   "id": "c55978d0-2cfd-41ad-8887-9a3fb248d07b",
   "metadata": {},
   "outputs": [
    {
     "name": "stdout",
     "output_type": "stream",
     "text": [
      "+--------+--------------------+-----------------+---------------+\n",
      "|order_id|          order_date|order_customer_id|   order_status|\n",
      "+--------+--------------------+-----------------+---------------+\n",
      "|       1|2013-07-25 00:00:...|            11599|         CLOSED|\n",
      "|       2|2013-07-25 00:00:...|              256|PENDING_PAYMENT|\n",
      "|       3|2013-07-25 00:00:...|            12111|       COMPLETE|\n",
      "+--------+--------------------+-----------------+---------------+\n",
      "only showing top 3 rows\n",
      "\n"
     ]
    }
   ],
   "source": [
    "spark.sql(\"select * from o\").show(3)"
   ]
  },
  {
   "cell_type": "code",
   "execution_count": 187,
   "id": "4b7f9b1b-b69a-4c16-bf83-73af33ca6304",
   "metadata": {},
   "outputs": [
    {
     "name": "stdout",
     "output_type": "stream",
     "text": [
      "+-------------+-------------------+---------------------+-------------------+-------------------+------------------------+\n",
      "|order_item_id|order_item_order_id|order_item_product_id|order_item_quantity|order_item_subtotal|order_item_product_price|\n",
      "+-------------+-------------------+---------------------+-------------------+-------------------+------------------------+\n",
      "|            1|                  1|                  957|                  1|             299.98|                  299.98|\n",
      "|            2|                  2|                 1073|                  1|             199.99|                  199.99|\n",
      "|            3|                  2|                  502|                  5|              250.0|                    50.0|\n",
      "|            4|                  2|                  403|                  1|             129.99|                  129.99|\n",
      "|            5|                  4|                  897|                  2|              49.98|                   24.99|\n",
      "|            6|                  4|                  365|                  5|             299.95|                   59.99|\n",
      "|            7|                  4|                  502|                  3|              150.0|                    50.0|\n",
      "|            8|                  4|                 1014|                  4|             199.92|                   49.98|\n",
      "|            9|                  5|                  957|                  1|             299.98|                  299.98|\n",
      "|           10|                  5|                  365|                  5|             299.95|                   59.99|\n",
      "+-------------+-------------------+---------------------+-------------------+-------------------+------------------------+\n",
      "only showing top 10 rows\n",
      "\n",
      "579.98\n"
     ]
    }
   ],
   "source": [
    "spark.sql(\"select * from oi\").show(10)\n",
    "print(199.99+ 250+129.99)"
   ]
  },
  {
   "cell_type": "code",
   "execution_count": 194,
   "id": "fd6ba300-f69e-4048-ba91-de89a465d553",
   "metadata": {},
   "outputs": [
    {
     "name": "stdout",
     "output_type": "stream",
     "text": [
      "+--------+------------------------+\n",
      "|order_id|sum(order_item_subtotal)|\n",
      "+--------+------------------------+\n",
      "|   68703|      3449.9100000000003|\n",
      "|   68724|      2859.8900000000003|\n",
      "|   68858|                 2839.91|\n",
      "|   68809|                 2779.86|\n",
      "|   68766|                  2699.9|\n",
      "+--------+------------------------+\n",
      "only showing top 5 rows\n",
      "\n"
     ]
    }
   ],
   "source": [
    "# print order id wise total sales\n",
    "query='''\n",
    "select order_id,sum(oi.order_item_subtotal) from o\n",
    "inner join oi\n",
    "on o.order_id=oi.order_item_order_id\n",
    "group by o.order_id\n",
    "order by sum(oi.order_item_subtotal) desc\n",
    "\n",
    "'''\n",
    "spark.sql(query).show(5)"
   ]
  },
  {
   "cell_type": "code",
   "execution_count": 222,
   "id": "f16fcdac-7d6e-4b02-8238-ce3a394fa049",
   "metadata": {},
   "outputs": [
    {
     "name": "stdout",
     "output_type": "stream",
     "text": [
      "+--------+------------------+\n",
      "|order_id|       total_sales|\n",
      "+--------+------------------+\n",
      "|   68703|3449.9100000000003|\n",
      "|   68724|2859.8900000000003|\n",
      "|   68858|           2839.91|\n",
      "|   68809|           2779.86|\n",
      "|   68766|            2699.9|\n",
      "+--------+------------------+\n",
      "only showing top 5 rows\n",
      "\n"
     ]
    }
   ],
   "source": [
    "# help(o.join)\n",
    "\n",
    "# cond = [ o[\"order_id\"] == oi[\"order_item_order_id\"] ]\n",
    "# cond = [ o[\"order_id\"] == oi[\"order_item_order_id\"] ]\n",
    "cond = [ o.order_id == oi.order_item_order_id ]\n",
    "# o.join(oi, cond, 'inner').groupBy(o.order_id).agg(sum(oi.order_item_subtotal))\n",
    "\n",
    "o.join(oi, cond, \"inner\") \\\n",
    "    .groupBy(o.order_id) \\\n",
    "    .agg(sum(oi.order_item_subtotal).alias(\"total_sales\")) \\\n",
    "    .orderBy(col(\"total_sales\").desc()) \\\n",
    "    .show(5)\n",
    "\n"
   ]
  },
  {
   "cell_type": "code",
   "execution_count": 239,
   "id": "d679559c-a1ed-46a3-98dc-5c7cdd7d2b80",
   "metadata": {},
   "outputs": [
    {
     "data": {
      "text/plain": [
       "DataFrame[order_id: string]"
      ]
     },
     "execution_count": 239,
     "metadata": {},
     "output_type": "execute_result"
    }
   ],
   "source": [
    "o.select(\"order_id\")"
   ]
  },
  {
   "cell_type": "code",
   "execution_count": 240,
   "id": "11fc4659-9091-4dde-b5fd-72113b8aed5b",
   "metadata": {},
   "outputs": [
    {
     "data": {
      "text/plain": [
       "DataFrame[order_id: string]"
      ]
     },
     "execution_count": 240,
     "metadata": {},
     "output_type": "execute_result"
    }
   ],
   "source": [
    "o.select(o[\"order_id\"])"
   ]
  },
  {
   "cell_type": "code",
   "execution_count": 241,
   "id": "035d2fac-9433-4352-ad0a-d01fd437870b",
   "metadata": {},
   "outputs": [
    {
     "data": {
      "text/plain": [
       "DataFrame[order_id: string]"
      ]
     },
     "execution_count": 241,
     "metadata": {},
     "output_type": "execute_result"
    }
   ],
   "source": [
    "o.select(o.order_id)"
   ]
  },
  {
   "cell_type": "code",
   "execution_count": 242,
   "id": "a575d10d-e4f3-4471-a74e-53807a512f92",
   "metadata": {},
   "outputs": [
    {
     "data": {
      "text/plain": [
       "DataFrame[order_id: string]"
      ]
     },
     "execution_count": 242,
     "metadata": {},
     "output_type": "execute_result"
    }
   ],
   "source": [
    "o.select(col(\"order_id\"))"
   ]
  }
 ],
 "metadata": {
  "kernelspec": {
   "display_name": "Python 3 (ipykernel)",
   "language": "python",
   "name": "python3"
  },
  "language_info": {
   "codemirror_mode": {
    "name": "ipython",
    "version": 3
   },
   "file_extension": ".py",
   "mimetype": "text/x-python",
   "name": "python",
   "nbconvert_exporter": "python",
   "pygments_lexer": "ipython3",
   "version": "3.10.2"
  }
 },
 "nbformat": 4,
 "nbformat_minor": 5
}
