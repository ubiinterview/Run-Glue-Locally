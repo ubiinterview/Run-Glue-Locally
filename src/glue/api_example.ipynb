{
 "cells": [
  {
   "cell_type": "code",
   "execution_count": 4,
   "id": "e427f1d4-9163-4abf-a71f-18ebcdf805f8",
   "metadata": {},
   "outputs": [
    {
     "name": "stdout",
     "output_type": "stream",
     "text": [
      "Application Name: api_call_example\n"
     ]
    },
    {
     "name": "stderr",
     "output_type": "stream",
     "text": [
      "/home/glue_user/spark/python/pyspark/sql/context.py:112: FutureWarning: Deprecated in 3.0.0. Use SparkSession.builder.getOrCreate() instead.\n",
      "  warnings.warn(\n"
     ]
    }
   ],
   "source": [
    "from awsglue.transforms import *\n",
    "from awsglue.utils import getResolvedOptions\n",
    "from pyspark.context import SparkContext\n",
    "from awsglue.context import GlueContext\n",
    "from awsglue.job import Job\n",
    "import sys\n",
    "import requests\n",
    "import json\n",
    "\n",
    "APP_NAME = \"api_call_example\"  # Define the application name\n",
    "\n",
    "# Check if SparkContext already exists\n",
    "if SparkContext._active_spark_context:\n",
    "    sc = SparkContext._active_spark_context  # Reuse existing context\n",
    "    if sc.appName != APP_NAME:\n",
    "        print(f\"Warning: Existing SparkContext found with different name ({sc.appName}).\")\n",
    "else:\n",
    "    # Create a new SparkContext with the desired name\n",
    "    sc = SparkContext(master=\"local[*]\", appName=APP_NAME)\n",
    "\n",
    "# Initialize GlueContext\n",
    "glueContext = GlueContext(sc)\n",
    "spark = glueContext.spark_session\n",
    "\n",
    "# Verify the application name\n",
    "print(\"Application Name:\", spark.sparkContext.appName)\n"
   ]
  },
  {
   "cell_type": "code",
   "execution_count": 24,
   "id": "b17f6301-9c80-44a9-bb1c-275efbfc604b",
   "metadata": {},
   "outputs": [
    {
     "name": "stdout",
     "output_type": "stream",
     "text": [
      "{'results': [{'gender': 'female', 'name': {'title': 'Miss', 'first': 'بهاره', 'last': 'كامياران'}, 'location': {'street': {'number': 9694, 'name': 'شهید کبیری طامه'}, 'city': 'قرچک', 'state': 'آذربایجان غربی', 'country': 'Iran', 'postcode': 13596, 'coordinates': {'latitude': '15.1191', 'longitude': '102.7996'}, 'timezone': {'offset': '+2:00', 'description': 'Kaliningrad, South Africa'}}, 'email': 'bhrh.kmyrn@example.com', 'login': {'uuid': '4848f8a0-014e-40b6-b19b-f3a7c2f465f0', 'username': 'sadzebra304', 'password': 'mercury1', 'salt': 'ft5cTA9g', 'md5': '4065df7d82408b64273347e25e3389a6', 'sha1': 'd724c34a3e0478dbc28820d149e7e271b0d22cc9', 'sha256': '77d4b8d37d943f208b5cc036f904ac8ac0f15416c9c8f809362b16373570b497'}, 'dob': {'date': '1983-02-22T07:44:27.561Z', 'age': 42}, 'registered': {'date': '2011-04-22T04:00:33.854Z', 'age': 13}, 'phone': '019-24390319', 'cell': '0940-714-3211', 'id': {'name': '', 'value': None}, 'picture': {'large': 'https://randomuser.me/api/portraits/women/76.jpg', 'medium': 'https://randomuser.me/api/portraits/med/women/76.jpg', 'thumbnail': 'https://randomuser.me/api/portraits/thumb/women/76.jpg'}, 'nat': 'IR'}, {'gender': 'male', 'name': {'title': 'Mr', 'first': 'Boris', 'last': 'Debus'}, 'location': {'street': {'number': 336, 'name': 'Industriestraße'}, 'city': 'Pfaffenhofen A. D. Ilm', 'state': 'Thüringen', 'country': 'Germany', 'postcode': 30940, 'coordinates': {'latitude': '-30.9658', 'longitude': '-132.7766'}, 'timezone': {'offset': '+9:30', 'description': 'Adelaide, Darwin'}}, 'email': 'boris.debus@example.com', 'login': {'uuid': 'f70b2664-2136-412e-87af-305e3564d281', 'username': 'orangebutterfly638', 'password': 'biology', 'salt': 'cu6muzr1', 'md5': '9866d01434bd99464bfef6e484eb0805', 'sha1': 'c2a8c676329303a36821c3af96fffd81a0d4dd57', 'sha256': '73da155b05fc63d2a1cf38c66b507c6ade1a179b1a5123e338b31abc6a031f55'}, 'dob': {'date': '1987-05-25T17:53:53.437Z', 'age': 37}, 'registered': {'date': '2009-03-21T08:38:54.012Z', 'age': 15}, 'phone': '0313-4701993', 'cell': '0178-5640089', 'id': {'name': 'SVNR', 'value': '79 250587 D 239'}, 'picture': {'large': 'https://randomuser.me/api/portraits/men/71.jpg', 'medium': 'https://randomuser.me/api/portraits/med/men/71.jpg', 'thumbnail': 'https://randomuser.me/api/portraits/thumb/men/71.jpg'}, 'nat': 'DE'}, {'gender': 'male', 'name': {'title': 'Mr', 'first': 'Berardo', 'last': 'Monteiro'}, 'location': {'street': {'number': 6119, 'name': 'Rua São Pedro '}, 'city': 'Ubá', 'state': 'Distrito Federal', 'country': 'Brazil', 'postcode': 14872, 'coordinates': {'latitude': '17.6772', 'longitude': '91.1351'}, 'timezone': {'offset': '-5:00', 'description': 'Eastern Time (US & Canada), Bogota, Lima'}}, 'email': 'berardo.monteiro@example.com', 'login': {'uuid': '5b5266b1-3fe5-4c9a-b01d-ee7f042949cf', 'username': 'bigwolf676', 'password': 'aisan', 'salt': 'HewetNLB', 'md5': '403df5f5788a1c705ec88cb1e7842fd4', 'sha1': '75226d04365aa9fa54f06d60e9f9eed307a641a0', 'sha256': '9c70d0430815fe4b36fd72e13ddb7438feef0223c86fa64642d736bfe0edee42'}, 'dob': {'date': '1966-04-16T08:36:37.703Z', 'age': 58}, 'registered': {'date': '2007-09-01T14:01:39.505Z', 'age': 17}, 'phone': '(44) 7101-9214', 'cell': '(82) 1464-7341', 'id': {'name': 'CPF', 'value': '272.725.161-81'}, 'picture': {'large': 'https://randomuser.me/api/portraits/men/64.jpg', 'medium': 'https://randomuser.me/api/portraits/med/men/64.jpg', 'thumbnail': 'https://randomuser.me/api/portraits/thumb/men/64.jpg'}, 'nat': 'BR'}, {'gender': 'female', 'name': {'title': 'Ms', 'first': 'Aaliyah', 'last': 'Davies'}, 'location': {'street': {'number': 2382, 'name': 'Cambridge Terrace'}, 'city': 'Auckland', 'state': 'Southland', 'country': 'New Zealand', 'postcode': 34272, 'coordinates': {'latitude': '-49.3404', 'longitude': '-160.5086'}, 'timezone': {'offset': '+7:00', 'description': 'Bangkok, Hanoi, Jakarta'}}, 'email': 'aaliyah.davies@example.com', 'login': {'uuid': '81515a97-11ea-464a-a7b1-12e417e427b7', 'username': 'tinyzebra399', 'password': 'hayden', 'salt': 'QbnXxJBw', 'md5': '445263a8dafc73ae11638afd7ba18615', 'sha1': 'e997ba55b77282fc8cecff0cb970768e9017c205', 'sha256': '2628a94d798271a68699e167c80703ddf624777d7dddceb76caaaa486624685f'}, 'dob': {'date': '1971-03-25T03:47:41.501Z', 'age': 53}, 'registered': {'date': '2017-12-31T12:06:23.740Z', 'age': 7}, 'phone': '(838)-655-0095', 'cell': '(067)-732-9400', 'id': {'name': '', 'value': None}, 'picture': {'large': 'https://randomuser.me/api/portraits/women/61.jpg', 'medium': 'https://randomuser.me/api/portraits/med/women/61.jpg', 'thumbnail': 'https://randomuser.me/api/portraits/thumb/women/61.jpg'}, 'nat': 'NZ'}, {'gender': 'female', 'name': {'title': 'Miss', 'first': 'Kristin', 'last': 'Ramos'}, 'location': {'street': {'number': 8089, 'name': 'Samaritan Dr'}, 'city': 'Atlanta', 'state': 'Nebraska', 'country': 'United States', 'postcode': 59540, 'coordinates': {'latitude': '43.0832', 'longitude': '-58.4974'}, 'timezone': {'offset': '-4:00', 'description': 'Atlantic Time (Canada), Caracas, La Paz'}}, 'email': 'kristin.ramos@example.com', 'login': {'uuid': '623c3c38-3a2d-41c8-82dd-310a4b03c597', 'username': 'orangeduck986', 'password': 'holland', 'salt': 'dLPasU4g', 'md5': '78e43209525a9c4965db3599417bfd9a', 'sha1': 'e1a8d7c982944e73c982297cb8102dac1a86291b', 'sha256': '00b298ca1509d73fe66a6e80fe168982cde344e254a8473e0503cb9ae62688cf'}, 'dob': {'date': '1956-12-14T15:45:03.053Z', 'age': 68}, 'registered': {'date': '2020-06-01T03:19:03.269Z', 'age': 4}, 'phone': '(781) 792-9774', 'cell': '(386) 680-0275', 'id': {'name': 'SSN', 'value': '381-72-2467'}, 'picture': {'large': 'https://randomuser.me/api/portraits/women/3.jpg', 'medium': 'https://randomuser.me/api/portraits/med/women/3.jpg', 'thumbnail': 'https://randomuser.me/api/portraits/thumb/women/3.jpg'}, 'nat': 'US'}], 'info': {'seed': 'afe2632c9ed9296f', 'results': 5, 'page': 1, 'version': '1.4'}}\n"
     ]
    }
   ],
   "source": [
    "# Step 2: Call the API\n",
    "api_url = \"https://randomuser.me/api/?results=5\"  # Fetch 5 random users\n",
    "response = requests.get(api_url)\n",
    "print(response.json())\n",
    "# Step 3: Convert API response to JSON\n",
    "if response.status_code == 200:\n",
    "    data = response.json()[\"results\"]  # Extract the 'results' field\n",
    "else:\n",
    "    print(\"API Request Failed!\")\n",
    "    data = []\n",
    "\n",
    "# Step 4: Convert JSON Data to Spark DataFrame\n",
    "df = spark.createDataFrame(data)"
   ]
  },
  {
   "cell_type": "code",
   "execution_count": 11,
   "id": "07867f58-3e61-43a6-ad1f-71788aa9f147",
   "metadata": {},
   "outputs": [
    {
     "data": {
      "text/plain": [
       "200"
      ]
     },
     "execution_count": 11,
     "metadata": {},
     "output_type": "execute_result"
    }
   ],
   "source": [
    "df.count()"
   ]
  },
  {
   "cell_type": "code",
   "execution_count": 12,
   "id": "1eb55b3b-983c-4d7a-9569-342a51061905",
   "metadata": {},
   "outputs": [
    {
     "name": "stdout",
     "output_type": "stream",
     "text": [
      "root\n",
      " |-- cell: string (nullable = true)\n",
      " |-- dob: map (nullable = true)\n",
      " |    |-- key: string\n",
      " |    |-- value: string (valueContainsNull = true)\n",
      " |-- email: string (nullable = true)\n",
      " |-- gender: string (nullable = true)\n",
      " |-- id: map (nullable = true)\n",
      " |    |-- key: string\n",
      " |    |-- value: string (valueContainsNull = true)\n",
      " |-- location: map (nullable = true)\n",
      " |    |-- key: string\n",
      " |    |-- value: map (valueContainsNull = true)\n",
      " |    |    |-- key: string\n",
      " |    |    |-- value: long (valueContainsNull = true)\n",
      " |-- login: map (nullable = true)\n",
      " |    |-- key: string\n",
      " |    |-- value: string (valueContainsNull = true)\n",
      " |-- name: map (nullable = true)\n",
      " |    |-- key: string\n",
      " |    |-- value: string (valueContainsNull = true)\n",
      " |-- nat: string (nullable = true)\n",
      " |-- phone: string (nullable = true)\n",
      " |-- picture: map (nullable = true)\n",
      " |    |-- key: string\n",
      " |    |-- value: string (valueContainsNull = true)\n",
      " |-- registered: map (nullable = true)\n",
      " |    |-- key: string\n",
      " |    |-- value: string (valueContainsNull = true)\n",
      "\n"
     ]
    }
   ],
   "source": [
    "df.printSchema()"
   ]
  },
  {
   "cell_type": "code",
   "execution_count": 22,
   "id": "912bdda8-6347-45e1-8c65-58998f398e39",
   "metadata": {},
   "outputs": [
    {
     "name": "stdout",
     "output_type": "stream",
     "text": [
      "root\n",
      " |-- name: map (nullable = true)\n",
      " |    |-- key: string\n",
      " |    |-- value: string (valueContainsNull = true)\n",
      "\n"
     ]
    }
   ],
   "source": [
    "df.select(\"name\").printSchema()"
   ]
  },
  {
   "cell_type": "code",
   "execution_count": 17,
   "id": "d53a5237-7365-493a-85f4-92cf29b5b46a",
   "metadata": {},
   "outputs": [
    {
     "name": "stdout",
     "output_type": "stream",
     "text": [
      "+-------------------------------------------------+\n",
      "|name                                             |\n",
      "+-------------------------------------------------+\n",
      "|{last -> Budding, title -> Mr, first -> Bareld}  |\n",
      "|{last -> Kinnunen, title -> Mr, first -> Rasmus} |\n",
      "|{last -> Lo, title -> Mr, first -> Antoine}      |\n",
      "|{last -> Ross, title -> Ms, first -> Inna}       |\n",
      "|{last -> Clement, title -> Madame, first -> Anja}|\n",
      "|{last -> Dufour, title -> Miss, first -> Romane} |\n",
      "|{last -> Hanka, title -> Mr, first -> Miro}      |\n",
      "|{last -> Gies, title -> Ms, first -> Käte}       |\n",
      "|{last -> Gagné, title -> Miss, first -> Amelia}  |\n",
      "|{last -> Knight, title -> Mr, first -> Ritthy}   |\n",
      "|{last -> Beugelink, title -> Mr, first -> Faizel}|\n",
      "|{last -> Walker, title -> Ms, first -> Natalie}  |\n",
      "|{last -> Velasco, title -> Miss, first -> Mar}   |\n",
      "|{last -> White, title -> Mr, first -> Maurice}   |\n",
      "|{last -> Moore, title -> Mr, first -> Liam}      |\n",
      "|{last -> Stöcker, title -> Mr, first -> Gunther} |\n",
      "|{last -> Johansen, title -> Mr, first -> Jacob}  |\n",
      "|{last -> Morrison, title -> Mr, first -> Howard} |\n",
      "|{last -> Acharya, title -> Mrs, first -> Sayali} |\n",
      "|{last -> Mora, title -> Mr, first -> Gregorio}   |\n",
      "+-------------------------------------------------+\n",
      "only showing top 20 rows\n",
      "\n"
     ]
    }
   ],
   "source": [
    "df.select(\"name\").show(truncate=False)"
   ]
  }
 ],
 "metadata": {
  "kernelspec": {
   "display_name": "Python 3 (ipykernel)",
   "language": "python",
   "name": "python3"
  },
  "language_info": {
   "codemirror_mode": {
    "name": "ipython",
    "version": 3
   },
   "file_extension": ".py",
   "mimetype": "text/x-python",
   "name": "python",
   "nbconvert_exporter": "python",
   "pygments_lexer": "ipython3",
   "version": "3.10.2"
  }
 },
 "nbformat": 4,
 "nbformat_minor": 5
}
